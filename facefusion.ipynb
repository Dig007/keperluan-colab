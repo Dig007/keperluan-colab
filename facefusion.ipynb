{
	"cells": [
		{
			"cell_type": "code",
			"execution_count": null,
			"metadata": {},
			"outputs": [],
			"source": [
				"!wget -O /content/abc.mp4 \"\""
			]
		},
		{
			"cell_type": "code",
			"execution_count": null,
			"metadata": {},
			"outputs": [],
			"source": [
				"import subprocess\n",
				"import os\n",
				"\n",
				"# URL video dan nama file output\n",
				"url = \"https://vdownload-43.sb-cd.com/1/3/13723282-720p.mp4?secure=18i-POyw1gPU1t0KPN3gOQ,1698038988&m=43&d=1&_tid=13723282\"\n",
				"output_video = \"/content/abc.mp4\"\n",
				"input_video = \"/content/video.mp4\"\n",
				"\n",
				"# Mengunduh video\n",
				"subprocess.run(['wget', '-O', input_video, url], check=True)\n",
				"\n",
				"# Memotong video\n",
				"start_time = \"00:00:00\"\n",
				"end_time = \"00:10:35\"\n",
				"subprocess.run(['ffmpeg', '-i', input_video, '-ss', start_time, '-to', end_time, '-c', 'copy', output_video], check=True)\n",
				"\n",
				"# Menghapus video asli\n",
				"os.remove(input_video)"
			]
		},
		{
			"cell_type": "code",
			"execution_count": null,
			"metadata": {
				"id": "ZlrnUA3i3gMB"
			},
			"outputs": [],
			"source": [
				"!git clone https://github.com/Dig007/fusiwajah\n",
				"%cd /content/fusiwajah\n",
				"!python install.py --torch cuda --onnxruntime cuda"
			]
		},
		{
			"cell_type": "code",
			"execution_count": null,
			"metadata": {},
			"outputs": [],
			"source": [
				"!mkdir -p /content/fusiwajah/.assets/models\n",
				"!wget -O /content/fusiwajah/.assets/models/codeformer.onnx \"https://github.com/facefusion/facefusion-assets/releases/download/models/codeformer.onnx\"\n",
				"!wget -O /content/fusiwajah/.assets/models/GFPGANv1.2.onnx \"https://github.com/facefusion/facefusion-assets/releases/download/models/GFPGANv1.2.onnx\"\n",
				"!wget -O /content/fusiwajah/.assets/models/GFPGANv1.3.onnx \"https://github.com/facefusion/facefusion-assets/releases/download/models/GFPGANv1.3.onnx\"\n",
				"!wget -O /content/fusiwajah/.assets/models/GFPGANv1.4.onnx \"https://github.com/facefusion/facefusion-assets/releases/download/models/GFPGANv1.4.onnx\"\n",
				"!wget -O /content/fusiwajah/.assets/models/GPEN-BFR-512.onnx \"https://github.com/facefusion/facefusion-assets/releases/download/models/GPEN-BFR-512.onnx\"\n",
				"!wget -O /content/fusiwajah/.assets/models/inswapper_128_fp16.onnx \"https://github.com/facefusion/facefusion-assets/releases/download/models/inswapper_128_fp16.onnx\"\n",
				"!wget -O /content/fusiwajah/.assets/models/inswapper_128.onnx \"https://github.com/facefusion/facefusion-assets/releases/download/models/inswapper_128.onnx\"\n",
				"!wget -O /content/fusiwajah/.assets/models/RealESRGAN_x2plus.pth \"https://github.com/facefusion/facefusion-assets/releases/download/models/RealESRGAN_x2plus.pth\"\n",
				"!wget -O /content/fusiwajah/.assets/models/RealESRGAN_x4plus.pth \"https://github.com/facefusion/facefusion-assets/releases/download/models/RealESRGAN_x4plus.pth\"\n",
				"!wget -O /content/fusiwajah/.assets/models/RealESRNet_x4plus.pth \"https://github.com/facefusion/facefusion-assets/releases/download/models/RealESRNet_x4plus.pth\"\n",
				"!wget -O /content/fusiwajah/.assets/models/simswap.onnx \"https://github.com/harisreedhar/Face-Swappers-ONNX/releases/download/simswap/simswap.onnx\"\n",
				"!wget -O /content/fusiwajah/.assets/models/w600k_r50.onnx \"https://huggingface.co/bluefoxcreation/insightface-retinaface-arcface-model/resolve/main/w600k_r50.onnx\"\n",
				"!wget -O /content/fusiwajah/.assets/models/face_detection_yunet_2023mar.onnx \"https://github.com/opencv/opencv_zoo/raw/main/models/face_detection_yunet/face_detection_yunet_2023mar.onnx\"\n",
				"!wget -O /content/fusiwajah/.assets/models/genderage.onnx \"https://huggingface.co/facefusion/buffalo_l/resolve/main/genderage.onnx\""
			]
		},
		{
			"cell_type": "code",
			"execution_count": null,
			"metadata": {
				"id": "YVHiNI-bb6IA"
			},
			"outputs": [],
			"source": [
				"%cd /content/fusiwajah\n",
				"!python run.py --headless -s /content/abc.jpg -t /content/abc.mp4 -o /content --max-memory 14 --execution-providers cuda --keep-fps --skip-download --execution-thread-count 64  --face-selector-mode many --face-analyser-direction left-right  --output-video-encoder libx264 --output-video-quality 80 --frame-processors face_swapper face_enhancer --face-enhancer-model gfpgan_1.4 --face-enhancer-blend 100 --face-swapper-model inswapper_128 --execution-queue-count 4  --face-detection-size 1024x1024 --face-detection-score 0.5"
			]
		},
		{
			"cell_type": "code",
			"execution_count": null,
			"metadata": {},
			"outputs": [],
			"source": [
				"import requests\n",
				"\n",
				"# Step 1: Get the upload URL\n",
				"api_key = '303594tcni6524q2l2nt8h'  # Replace with your API key\n",
				"url = f'https://doodapi.com/api/upload/server?key={api_key}'\n",
				"response = requests.get(url)\n",
				"upload_url = response.json().get('result')\n",
				"\n",
				"# Step 2: Upload the file to the obtained URL\n",
				"with open('/content/roop-unleashed/output/ava_13-49-37.mp4', 'rb') as file:  # Replace 'file.mp4' with the path of your file\n",
				"    files = {'file': file}\n",
				"    upload_response = requests.post(upload_url, files=files, data={'api_key': api_key})\n",
				"\n",
				"# Print the upload response\n",
				"print(upload_response.json())"
			]
		}
	],
	"metadata": {
		"accelerator": "GPU",
		"colab": {
			"provenance": [
				{
					"file_id": "17FwlS26zvLhXtiEGvdC7EiC2lUToBJ5v",
					"timestamp": 1694089316266
				}
			]
		},
		"kernelspec": {
			"display_name": "Python",
			"name": "python3"
		},
		"language_info": {
			"name": "python"
		}
	},
	"nbformat": 4,
	"nbformat_minor": 0
}
